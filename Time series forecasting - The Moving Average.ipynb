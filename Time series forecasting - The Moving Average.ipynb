{
 "cells": [
  {
   "cell_type": "markdown",
   "metadata": {},
   "source": [
    "# Time Series Forecasting"
   ]
  },
  {
   "cell_type": "code",
   "execution_count": 57,
   "metadata": {
    "collapsed": true
   },
   "outputs": [],
   "source": [
    "import numpy as np\n",
    "import pandas as pd\n",
    "import matplotlib.pyplot as plt"
   ]
  },
  {
   "cell_type": "markdown",
   "metadata": {},
   "source": [
    "### Reading the data set"
   ]
  },
  {
   "cell_type": "code",
   "execution_count": 58,
   "metadata": {},
   "outputs": [],
   "source": [
    "ds = pd.read_csv(\"Data set in csv format/data\") #read the csv data file\n",
    "sales = np.array(ds[\"Sales\"]) # Extract the sales column from the data\n",
    "TP = np.array(range(1,25))  #Time period column from the data\n",
    "\n",
    "sales_train_y= sales[:24]  #first 2 years are used as Training data\n",
    "n = len(sales_train_y)\n",
    "\n",
    "sales_test_y= sales[24:] #3rd year is used as the test data"
   ]
  },
  {
   "cell_type": "markdown",
   "metadata": {},
   "source": [
    "### 1 . Cleansing / Removing outliers\n",
    "\n",
    "__Remove Outliers Using Normal Distribution and S.D__\n",
    "\n",
    "We needed to remove these outlier values because they make the scales on the graph unrealistic. The challenge is that the number of these outlier values was never fixed. Sometimes one would get all valid values and sometimes these erroneous readings would cover as much as 10% of the data points.\n",
    "\n",
    "One approach is to remove the outlier points by supressing any points that were above (Mean + NxSD) and any points below (Mean - NxSD) before plotting the frequencies , where N = 1,2,...6\n",
    "\n",
    "Here the points above (Mean + NxSD) are marked as (Mean + NxSD) and the points below (Mean - NxSD) are marked as (Mean - NxSD).\n",
    "Rest of the points lie within those ranges of sigma."
   ]
  },
  {
   "cell_type": "code",
   "execution_count": 59,
   "metadata": {},
   "outputs": [
    {
     "data": {
      "image/png": "[encoded data removed]",
      "text/plain": [
       "<matplotlib.figure.Figure at 0x21bcd4e59e8>"
      ]
     },
     "metadata": {},
     "output_type": "display_data"
    }
   ],
   "source": [
    "'''\n",
    "mean --> Mean of the training data\n",
    "std  --> Standard Deviation of the training data\n",
    " N   --> N sigma parameter\n",
    "'''\n",
    "mean = np.mean(sales_train_y , axis =0)\n",
    "std  = np.std(sales_train_y, axis = 0)\n",
    "list1 = sales_train_y.copy()\n",
    "sales_clean = np.zeros(len(sales_train_y))\n",
    "N = 2\n",
    "for x in range(len(list1)):\n",
    "    if list1[x]  < ( mean - N*std):\n",
    "        sales_clean[x] = mean - N*std\n",
    "    elif list1[x] > ( mean + N*std ):\n",
    "        sales_clean[x] = mean + N*std\n",
    "    else:\n",
    "        sales_clean[x] = list1[x]\n",
    "\n",
    "# for x in range(len(list1)):\n",
    "#     print(list1[x],\"  \",list2[x],\"  yes\" if list1[x] == list2[x] else \"  No\")\n",
    "        \n",
    "plt.plot(list1)\n",
    "plt.plot(sales_clean)\n",
    "plt.show()"
   ]
  },
  {
   "cell_type": "markdown",
   "metadata": {},
   "source": [
    "### 2. Smoothen the data using the Moving average method\n",
    "__Smoothening of data removes the SEASONAL component and the IRREGULAR component from the data__\n",
    "\n",
    "In Moving Average Smoothing, each observation is assigned an equal weight, and each observation is forecasted by using the average of the previous observation(s). Using the time series X1, X2, X3, ....., Xt, this smoothing technique predicts Xt+k as follows :\n",
    "\n",
    "St = Average (xt-k+1, xt-k+2, ....., xt), t= k, k+1, k+2, ...N\n",
    "\n",
    "where, k is the smoothing parameter.\n",
    "\n",
    "####  2.1 Generating the baseline"
   ]
  },
  {
   "cell_type": "code",
   "execution_count": 60,
   "metadata": {},
   "outputs": [
    {
     "data": {
      "text/plain": [
       "array([   0.        ,    0.        ,  178.575     ,  157.15      ,\n",
       "        162.8       ,  174.975     ,  201.275     ,  204.4       ,\n",
       "        193.        ,  219.175     ,  209.525     ,  209.9       ,\n",
       "        216.55      ,  184.95      ,  206.8       ,  206.075     ,\n",
       "        240.45      ,  244.425     ,  252.        ,  276.625     ,\n",
       "        299.01570604,  308.64070604,  318.31570604,    0.        ])"
      ]
     },
     "execution_count": 60,
     "metadata": {},
     "output_type": "execute_result"
    }
   ],
   "source": [
    "''' \n",
    "MA --> Moving Average\n",
    "'''\n",
    "MA = np.zeros(n)  #initializing the current Moving Avg array to zero\n",
    "x=0\n",
    "for i in range(2,n-1):  #\n",
    "#     print(sales_clean[x:x+4])\n",
    "    MA[i] = sum(sales_clean[x:x+4]/4)\n",
    "    x+=1\n",
    "MA\n",
    "# plt.plot(MA)\n",
    "\n",
    "# plt.show()"
   ]
  },
  {
   "cell_type": "markdown",
   "metadata": {},
   "source": [
    "__Centered moving average__\n",
    "\n",
    "The idea behind Centered Moving Average approach is getting a moving average that’s centered on an existing midpoint, when there’s an even number of seasons, is to pull that midpoint forward by half a season. \n",
    "You calculate a moving average that would be centered at, say, the third point in time if five seasons instead of four constituted one full turn of the calendar.\n",
    "That’s done by taking two consecutive moving averages and averaging them."
   ]
  },
  {
   "cell_type": "markdown",
   "metadata": {},
   "source": [
    "This method generates a __Baseline__  (blue line below) for the data\n",
    "A baseline is a method that uses heuristics, simple summary statistics, randomness, or machine learning to create predictions for a dataset. You can use these predictions to measure the baseline's performance (e.g., accuracy)-- this metric will then become what you compare any other machine learning algorithm against."
   ]
  },
  {
   "cell_type": "code",
   "execution_count": 61,
   "metadata": {},
   "outputs": [
    {
     "data": {
      "image/png": "[encoded data removed]",
      "text/plain": [
       "<matplotlib.figure.Figure at 0x21bcd4336d8>"
      ]
     },
     "metadata": {},
     "output_type": "display_data"
    },
    {
     "name": "stdout",
     "output_type": "stream",
     "text": [
      "[   0.            0.          167.8625      159.975       168.8875      188.125\n",
      "  202.8375      198.7         206.0875      214.35        209.7125      213.225\n",
      "  200.75        195.875       206.4375      223.2625      242.4375\n",
      "  248.2125      264.3125      287.82035302  303.82820604  313.47820604\n",
      "    0.            0.        ]\n"
     ]
    }
   ],
   "source": [
    "'''\n",
    "CMA --> Centered Moving Average\n",
    "MA  --> Moving Average\n",
    "'''\n",
    "CMA = np.zeros(n)\n",
    "x =2\n",
    "for i in range(2,len(MA)-2):\n",
    "    CMA[i] = sum(MA[x:x+2])/2\n",
    "    x+=1\n",
    "\n",
    "plt.plot(CMA)\n",
    "plt.plot(sales_clean)\n",
    "plt.show()\n",
    "print(CMA)\n",
    "\n",
    "#Baseline achieved"
   ]
  },
  {
   "cell_type": "markdown",
   "metadata": {},
   "source": [
    "###  3.Forecasting\n",
    "####  3.1 Extracting Seasonality and Irregularity from the data\n",
    "We extract the seasonal and irregular component from the difference btwn the original data and the smoothened data.\n"
   ]
  },
  {
   "cell_type": "markdown",
   "metadata": {},
   "source": [
    "The classical multiplicative model says that the time series (Y) is the product of Seasonal component(S), Irregular component(I) and the Trend (T) component.\n",
    "\n",
    "__Y = S x I x T__\n"
   ]
  },
  {
   "cell_type": "code",
   "execution_count": 62,
   "metadata": {},
   "outputs": [
    {
     "data": {
      "text/plain": [
       "array([ 0.        ,  0.        ,  1.0907737 ,  0.74574152,  1.06757457,\n",
       "        0.89568106,  1.14278671,  1.12984399,  0.93552496,  0.57336132,\n",
       "        1.6045777 ,  0.87184899,  0.96787049,  0.76324186,  1.01774145,\n",
       "        1.22411959,  0.78948183,  1.15626731,  0.85504847,  1.05482464,\n",
       "        0.95415763,  1.20124084,  0.        ,  0.        ])"
      ]
     },
     "execution_count": 62,
     "metadata": {},
     "output_type": "execute_result"
    }
   ],
   "source": [
    "''' \n",
    "To obtain SxI we use the following formula\n",
    "S x I = Y / CMA\n",
    "\n",
    "( S x I ) --> season_ireg\n",
    "    Y     --> sales_clean\n",
    "    CMA   --> CMA\n",
    "'''\n",
    "season_ireg = np.zeros(n)\n",
    "for i in range(n-1):\n",
    "    if CMA[i]!=0: season_ireg[i] = sales_clean[i] / CMA[i]  \n",
    "season_ireg"
   ]
  },
  {
   "cell_type": "markdown",
   "metadata": {},
   "source": [
    "#### 3.1.1 Seasonality\n",
    "Seasonal component is extracted by averaging all the corresponding available values for the months in Seasonal Irregularity data.\n",
    "\n",
    "For ex\n",
    "\n",
    "| months | SI   |\n",
    "|--------|------|\n",
    "|   1    | 1.10 |\n",
    "|   2    | 1.13 |\n",
    "|   3    | 0.99 |\n",
    "|   4    | 0.82 |\n",
    "|   1    | 0.97 |\n",
    "|   2    | 1.18 |\n",
    "|   3    | 1.11 |\n",
    "\n",
    "Seasonality of month 1 = avg (1.10 , 0.97)\n",
    "\n",
    "Seasonality of month 2 = avg (1.13 , 1.18)\n",
    "\n",
    "Seasonality of month 3 = avg (0.99 , 1.11)\n",
    "\n",
    "and so on...\n",
    "\n"
   ]
  },
  {
   "cell_type": "code",
   "execution_count": 63,
   "metadata": {},
   "outputs": [
    {
     "data": {
      "text/plain": [
       "array([ 0.96787049,  0.76324186,  1.05425757,  0.98493056,  0.9285282 ,\n",
       "        1.02597419,  0.99891759,  1.09233431,  0.94484129,  0.88730108,\n",
       "        1.6045777 ,  0.87184899,  0.96787049,  0.76324186,  1.05425757,\n",
       "        0.98493056,  0.9285282 ,  1.02597419,  0.99891759,  1.09233431,\n",
       "        0.94484129,  0.88730108,  1.6045777 ,  0.87184899])"
      ]
     },
     "execution_count": 63,
     "metadata": {},
     "output_type": "execute_result"
    }
   ],
   "source": [
    "seasonality = np.zeros(n)\n",
    "for i in range(12):\n",
    "    count=0\n",
    "    if season_ireg[i] !=0 : count+=1\n",
    "    if season_ireg[i+12] !=0 : count+=1\n",
    "    x =  ( season_ireg[i] + season_ireg[i+12]) / count\n",
    "    seasonality[i],seasonality[i+12]= x,x\n",
    "seasonality"
   ]
  },
  {
   "cell_type": "markdown",
   "metadata": {},
   "source": [
    "#### 3.1.2 De-Seasonlize the data\n",
    "Removing of the Seasonality from the data\n",
    "This is done by dividing the Original data by Seasonality.\n",
    "\n",
    "__De-seasonlize = Y / S__"
   ]
  },
  {
   "cell_type": "code",
   "execution_count": 64,
   "metadata": {},
   "outputs": [
    {
     "data": {
      "text/plain": [
       "array([ 274.83015955,  191.15827759,  173.67672256,  121.12529077,\n",
       "        194.17827113,  164.23415141,  232.05117355,  205.52316029,\n",
       "        204.05543391,  138.50991765,  209.7125    ,  213.225     ,\n",
       "        200.75      ,  195.875     ,  199.28716226,  277.48149176,\n",
       "        206.13267385,  279.73413326,  226.24488879,  277.93688848,\n",
       "        306.82401604,  424.39125927,  164.84088039,  392.61386498])"
      ]
     },
     "execution_count": 64,
     "metadata": {},
     "output_type": "execute_result"
    }
   ],
   "source": [
    "'''\n",
    "De_season --> calculated Deseasonlized data is stored here\n",
    "'''\n",
    "De_season = np.zeros(n)\n",
    "for i in range(n):\n",
    "    De_season[i]=sales_clean[i] / seasonality[i]\n",
    "De_season"
   ]
  },
  {
   "cell_type": "markdown",
   "metadata": {},
   "source": [
    "#### 3.2 Generate the Trend using a linear regression model\n",
    "To obtain Trend component run a simple linear regression model with \n",
    "\n",
    "Y-variable as the De-seasonalized data \n",
    "\n",
    "and \n",
    "\n",
    "X-variable as the time period"
   ]
  },
  {
   "cell_type": "code",
   "execution_count": 65,
   "metadata": {},
   "outputs": [
    {
     "name": "stdout",
     "output_type": "stream",
     "text": [
      "[ 155.09308987]\n",
      "[[ 5.8405272]]\n"
     ]
    }
   ],
   "source": [
    "from sklearn.linear_model import LinearRegression\n",
    "LR = LinearRegression() #The linear regression model\n",
    "LR.fit(TP[:,np.newaxis] , De_season[:,np.newaxis]) #fits the x and y axis on the model\n",
    "print(LR.intercept_) #Intercept of the regression line\n",
    "print(LR.coef_)   #Slope of the regression line"
   ]
  },
  {
   "cell_type": "markdown",
   "metadata": {},
   "source": [
    "#### 3.2.2 Trend\n",
    "The generated line via the Linear regression model is the trend component of the data.\n"
   ]
  },
  {
   "cell_type": "code",
   "execution_count": 66,
   "metadata": {},
   "outputs": [
    {
     "data": {
      "text/plain": [
       "array([[ 160.93361708],\n",
       "       [ 166.77414428],\n",
       "       [ 172.61467148],\n",
       "       [ 178.45519868],\n",
       "       [ 184.29572588],\n",
       "       [ 190.13625308],\n",
       "       [ 195.97678029],\n",
       "       [ 201.81730749],\n",
       "       [ 207.65783469],\n",
       "       [ 213.49836189],\n",
       "       [ 219.33888909],\n",
       "       [ 225.17941629],\n",
       "       [ 231.0199435 ],\n",
       "       [ 236.8604707 ],\n",
       "       [ 242.7009979 ],\n",
       "       [ 248.5415251 ],\n",
       "       [ 254.3820523 ],\n",
       "       [ 260.2225795 ],\n",
       "       [ 266.06310671],\n",
       "       [ 271.90363391],\n",
       "       [ 277.74416111],\n",
       "       [ 283.58468831],\n",
       "       [ 289.42521551],\n",
       "       [ 295.26574271],\n",
       "       [ 301.10626992],\n",
       "       [ 306.94679712],\n",
       "       [ 312.78732432],\n",
       "       [ 318.62785152],\n",
       "       [ 324.46837872],\n",
       "       [ 330.30890592],\n",
       "       [ 336.14943313],\n",
       "       [ 341.98996033],\n",
       "       [ 347.83048753],\n",
       "       [ 353.67101473],\n",
       "       [ 359.51154193],\n",
       "       [ 365.35206913]])"
      ]
     },
     "execution_count": 66,
     "metadata": {},
     "output_type": "execute_result"
    }
   ],
   "source": [
    "# Prediction applied\n",
    "TP2 = np.array(range(1,37))\n",
    "Trend = LR.predict(TP2[:,np.newaxis])\n",
    "Trend"
   ]
  },
  {
   "cell_type": "markdown",
   "metadata": {},
   "source": [
    "#### 3.3 Final forecast = Seasonality * Trend\n",
    "Final forecast is obtained by multiplying the Seasonal component and the trend.\n",
    "\n",
    "Forecast the data for all the 3 years. ( 2 Train years + 1 Test year ) and plot them."
   ]
  },
  {
   "cell_type": "code",
   "execution_count": 67,
   "metadata": {
    "collapsed": true
   },
   "outputs": [],
   "source": [
    "seasonalityFuture = np.zeros(36)\n",
    "for i in range(36):\n",
    "    seasonalityFuture[i] = seasonality[i%12]\n",
    "    \n",
    "seasonalityFuture\n",
    "Forecast = np.multiply(seasonalityFuture[: , np.newaxis] , Trend)"
   ]
  },
  {
   "cell_type": "code",
   "execution_count": 68,
   "metadata": {},
   "outputs": [
    {
     "data": {
      "image/png": "[encoded data removed]",
      "text/plain": [
       "<matplotlib.figure.Figure at 0x21bcd4c4fd0>"
      ]
     },
     "metadata": {},
     "output_type": "display_data"
    }
   ],
   "source": [
    "plt.plot(Forecast)\n",
    "plt.plot(sales)\n",
    "plt.show()"
   ]
  },
  {
   "cell_type": "code",
   "execution_count": 69,
   "metadata": {},
   "outputs": [
    {
     "data": {
      "text/plain": [
       "array([[ 291.4318717 ],\n",
       "       [ 234.27464541],\n",
       "       [ 329.75840538],\n",
       "       [ 313.826307  ],\n",
       "       [ 301.27803869],\n",
       "       [ 338.88841128],\n",
       "       [ 335.78558302],\n",
       "       [ 373.5673682 ],\n",
       "       [ 328.64460754],\n",
       "       [ 313.81267455],\n",
       "       [ 576.86420151],\n",
       "       [ 318.53183094]])"
      ]
     },
     "execution_count": 69,
     "metadata": {},
     "output_type": "execute_result"
    }
   ],
   "source": [
    "Forecast[-12:] #predicted forecast for year 3"
   ]
  },
  {
   "cell_type": "code",
   "execution_count": 70,
   "metadata": {},
   "outputs": [
    {
     "data": {
      "text/plain": [
       "array([[ 339.7],\n",
       "       [ 440.4],\n",
       "       [ 315.9],\n",
       "       [ 439.3],\n",
       "       [ 401.3],\n",
       "       [ 437.4],\n",
       "       [ 575.5],\n",
       "       [ 407.6],\n",
       "       [ 682. ],\n",
       "       [ 475.3],\n",
       "       [ 581.3],\n",
       "       [ 646.9]])"
      ]
     },
     "execution_count": 70,
     "metadata": {},
     "output_type": "execute_result"
    }
   ],
   "source": [
    "sales_test_y[:,np.newaxis] #Actual forecast for year 3"
   ]
  },
  {
   "cell_type": "markdown",
   "metadata": {},
   "source": [
    "### Key Performance Indicators\n",
    "\n",
    "#### Forecast Bias\n",
    "A forecast bias occurs when there are consistent differences between actual outcomes and previously generated forecasts of those quantities; that is: forecasts may have a general tendency to be too high or too low. A normal property of a good forecast is that it is not biased\n",
    "\n",
    "__Forecast Bias = \t( Actual - Forecast ) / Forecast __ \n",
    "\n",
    "performed over the entire test data.\n"
   ]
  },
  {
   "cell_type": "code",
   "execution_count": 71,
   "metadata": {},
   "outputs": [
    {
     "data": {
      "text/plain": [
       "0.41559667686178647"
      ]
     },
     "execution_count": 71,
     "metadata": {},
     "output_type": "execute_result"
    }
   ],
   "source": [
    "A_F = np.subtract(sales_test_y[:,np.newaxis] , Forecast[-12:]) / np.sum(Forecast[-12:])\n",
    "ForecastBias = np.sum(A_F)\n",
    "ForecastBias"
   ]
  },
  {
   "cell_type": "markdown",
   "metadata": {},
   "source": [
    "#### Forecast Accuracy\n",
    "The forecast accuracy is calculated as follows :\n",
    "\n",
    "__Forecast Accuracy = 1 - Absolute Error/Actual __\n",
    "\n",
    "over all the test data."
   ]
  },
  {
   "cell_type": "code",
   "execution_count": 72,
   "metadata": {},
   "outputs": [
    {
     "data": {
      "text/plain": [
       "70.158937318561172"
      ]
     },
     "execution_count": 72,
     "metadata": {},
     "output_type": "execute_result"
    }
   ],
   "source": [
    "Abs_error = abs(np.subtract(sales_test_y[:,np.newaxis] , Forecast[-12:]))\n",
    "ForecastAccuracy = 1 - np.sum(Abs_error)/np.sum(sales_test_y[:,np.newaxis])\n",
    "ForecastAccuracy*100"
   ]
  },
  {
   "cell_type": "code",
   "execution_count": null,
   "metadata": {
    "collapsed": true
   },
   "outputs": [],
   "source": []
  }
 ],
 "metadata": {
  "kernelspec": {
   "display_name": "Python 3",
   "language": "python",
   "name": "python3"
  },
  "language_info": {
   "codemirror_mode": {
    "name": "ipython",
    "version": 3
   },
   "file_extension": ".py",
   "mimetype": "text/x-python",
   "name": "python",
   "nbconvert_exporter": "python",
   "pygments_lexer": "ipython3",
   "version": "3.6.3"
  }
 },
 "nbformat": 4,
 "nbformat_minor": 2
}
